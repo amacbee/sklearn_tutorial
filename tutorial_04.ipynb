{
 "metadata": {
  "name": "",
  "signature": "sha256:50f07bdbf049de2a940ed6e572866e31a69c04765c5ef36a439840ae9aed2e6b"
 },
 "nbformat": 3,
 "nbformat_minor": 0,
 "worksheets": [
  {
   "cells": [
    {
     "cell_type": "markdown",
     "metadata": {},
     "source": [
      "# A tutorial on statistical-learning for scientific data processing"
     ]
    },
    {
     "cell_type": "markdown",
     "metadata": {},
     "source": [
      "## Model selection: choosing estimators and their parameters"
     ]
    },
    {
     "cell_type": "markdown",
     "metadata": {},
     "source": [
      "### Score, and cross-validated scores"
     ]
    },
    {
     "cell_type": "code",
     "collapsed": false,
     "input": [
      "from sklearn import datasets, svm\n",
      "\n",
      "digits = datasets.load_digits()\n",
      "X_digits = digits.data\n",
      "y_digits = digits.target\n",
      "\n",
      "svc = svm.SVC(C=1, kernel='linear')\n",
      "svc.fit(X_digits[:-100], y_digits[:-100]).score(X_digits[-100:], y_digits[-100:])"
     ],
     "language": "python",
     "metadata": {},
     "outputs": [
      {
       "metadata": {},
       "output_type": "pyout",
       "prompt_number": 1,
       "text": [
        "0.97999999999999998"
       ]
      }
     ],
     "prompt_number": 1
    },
    {
     "cell_type": "code",
     "collapsed": false,
     "input": [
      "# Cross Validation\n",
      "\n",
      "import numpy as np\n",
      "\n",
      "# 3\u5206\u5272\n",
      "X_folds = np.array_split(X_digits, 3)\n",
      "y_folds = np.array_split(y_digits, 3)\n",
      "\n",
      "scores = list()\n",
      "for k in range(3):\n",
      "    \n",
      "    # We use 'list' to copy, in order to 'pop' later on\n",
      "    X_train = list(X_folds)\n",
      "    X_test  = X_train.pop(k)\n",
      "    X_train = np.concatenate(X_train)\n",
      "    \n",
      "    y_train = list(y_folds)\n",
      "    y_test  = y_train.pop(k)\n",
      "    y_train = np.concatenate(y_train)\n",
      "    \n",
      "    scores.append(svc.fit(X_train, y_train).score(X_test, y_test))\n",
      "\n",
      "scores"
     ],
     "language": "python",
     "metadata": {},
     "outputs": [
      {
       "metadata": {},
       "output_type": "pyout",
       "prompt_number": 2,
       "text": [
        "[0.93489148580968284, 0.95659432387312182, 0.93989983305509184]"
       ]
      }
     ],
     "prompt_number": 2
    },
    {
     "cell_type": "markdown",
     "metadata": {},
     "source": [
      "### Cross-validation generators"
     ]
    },
    {
     "cell_type": "code",
     "collapsed": false,
     "input": [
      "# \u30c7\u30fc\u30bf\u3092K\u500b\u306b\u5206\u5272\u3057\uff0cK-1\u500b\u3092\u8a13\u7df4\u7528\uff0c\u6b8b\u308a1\u3064\u3092\u691c\u8a3c\u7528\u306b\u5229\u7528\n",
      "\n",
      "from sklearn import cross_validation\n",
      "\n",
      "# K\u5206\u5272\u4ea4\u5dee\u691c\u5b9a\n",
      "k_fold = cross_validation.KFold(n=6, n_folds=3)\n",
      "for train_indices, test_indices in k_fold:\n",
      "    print('Train: {0} | Test: {1}'.format(train_indices, test_indices))"
     ],
     "language": "python",
     "metadata": {},
     "outputs": [
      {
       "output_type": "stream",
       "stream": "stdout",
       "text": [
        "Train: [2 3 4 5] | Test: [0 1]\n",
        "Train: [0 1 4 5] | Test: [2 3]\n",
        "Train: [0 1 2 3] | Test: [4 5]\n"
       ]
      }
     ],
     "prompt_number": 3
    },
    {
     "cell_type": "code",
     "collapsed": false,
     "input": [
      "kfold = cross_validation.KFold(len(X_digits), n_folds=3)\n",
      "[svc.fit(X_digits[train], y_digits[train]).score(X_digits[test], y_digits[test]) for train, test in kfold]"
     ],
     "language": "python",
     "metadata": {},
     "outputs": [
      {
       "metadata": {},
       "output_type": "pyout",
       "prompt_number": 4,
       "text": [
        "[0.93489148580968284, 0.95659432387312182, 0.93989983305509184]"
       ]
      }
     ],
     "prompt_number": 4
    },
    {
     "cell_type": "code",
     "collapsed": false,
     "input": [
      "cross_validation.cross_val_score(svc, X_digits, y_digits, cv=kfold, n_jobs=-1)"
     ],
     "language": "python",
     "metadata": {},
     "outputs": [
      {
       "metadata": {},
       "output_type": "pyout",
       "prompt_number": 5,
       "text": [
        "array([ 0.93489149,  0.95659432,  0.93989983])"
       ]
      }
     ],
     "prompt_number": 5
    },
    {
     "cell_type": "markdown",
     "metadata": {},
     "source": [
      "### Grid-search and cross-validated estimators"
     ]
    },
    {
     "cell_type": "markdown",
     "metadata": {},
     "source": [
      "#### Grid-search"
     ]
    },
    {
     "cell_type": "code",
     "collapsed": false,
     "input": [
      "# \u30d1\u30e9\u30e1\u30fc\u30bf\u7bc4\u56f2\u3092\u6307\u5b9a\u3057\uff0c\u7d4c\u9a13\u7684\u306b\u8c4a\u5bcc\u306a\u30d1\u30e9\u30e1\u30fc\u30bf\u306e\u7d44\u3092\u63a2\u3059\n",
      "\n",
      "from sklearn.grid_search import GridSearchCV\n",
      "\n",
      "gammas = np.logspace(-6, -1, 10)\n",
      "clf = GridSearchCV(estimator=svc, param_grid=dict(gamma=gammas), n_jobs=-1)\n",
      "clf.fit(X_digits[:1000], y_digits[:1000])"
     ],
     "language": "python",
     "metadata": {},
     "outputs": [
      {
       "metadata": {},
       "output_type": "pyout",
       "prompt_number": 6,
       "text": [
        "GridSearchCV(cv=None,\n",
        "       estimator=SVC(C=1, cache_size=200, class_weight=None, coef0=0.0, degree=3, gamma=0.0,\n",
        "  kernel='linear', max_iter=-1, probability=False, random_state=None,\n",
        "  shrinking=True, tol=0.001, verbose=False),\n",
        "       fit_params={}, iid=True, loss_func=None, n_jobs=-1,\n",
        "       param_grid={'gamma': array([  1.00000e-06,   3.59381e-06,   1.29155e-05,   4.64159e-05,\n",
        "         1.66810e-04,   5.99484e-04,   2.15443e-03,   7.74264e-03,\n",
        "         2.78256e-02,   1.00000e-01])},\n",
        "       pre_dispatch='2*n_jobs', refit=True, score_func=None, scoring=None,\n",
        "       verbose=0)"
       ]
      }
     ],
     "prompt_number": 6
    },
    {
     "cell_type": "code",
     "collapsed": false,
     "input": [
      "clf.best_score_"
     ],
     "language": "python",
     "metadata": {},
     "outputs": [
      {
       "metadata": {},
       "output_type": "pyout",
       "prompt_number": 7,
       "text": [
        "0.92400000000000004"
       ]
      }
     ],
     "prompt_number": 7
    },
    {
     "cell_type": "code",
     "collapsed": false,
     "input": [
      "clf.best_estimator_.gamma == 1e-6"
     ],
     "language": "python",
     "metadata": {},
     "outputs": [
      {
       "metadata": {},
       "output_type": "pyout",
       "prompt_number": 8,
       "text": [
        "True"
       ]
      }
     ],
     "prompt_number": 8
    },
    {
     "cell_type": "code",
     "collapsed": false,
     "input": [
      "# training set \u3068 testing set \u3067\u306f\uff0c\u30d1\u30e9\u30e1\u30fc\u30bf\u306e\u30b9\u30b3\u30a2\u306f\u5909\u308f\u3063\u3066\u304f\u308b\n",
      "clf.score(X_digits[1000:], y_digits[1000:])"
     ],
     "language": "python",
     "metadata": {},
     "outputs": [
      {
       "metadata": {},
       "output_type": "pyout",
       "prompt_number": 9,
       "text": [
        "0.94228356336260977"
       ]
      }
     ],
     "prompt_number": 9
    },
    {
     "cell_type": "markdown",
     "metadata": {},
     "source": [
      "### Cross-validated estimators"
     ]
    },
    {
     "cell_type": "code",
     "collapsed": false,
     "input": [
      "# \u4ea4\u5dee\u691c\u5b9a\u306f\uff0c\u5404\u30a2\u30eb\u30b4\u30ea\u30ba\u30e0\u306b\u304a\u3044\u3066\u3088\u308a\u52b9\u679c\u7684\u306a\u30d1\u30e9\u30e1\u30fc\u30bf\u3092\u8a2d\u5b9a\u3059\u308b\n",
      "\n",
      "from sklearn import linear_model, datasets\n",
      "\n",
      "lasso = linear_model.LassoCV()\n",
      "diabetes = datasets.load_diabetes()\n",
      "X_diabetes = diabetes.data\n",
      "y_diabetes = diabetes.target\n",
      "lasso.fit(X_diabetes, y_diabetes)"
     ],
     "language": "python",
     "metadata": {},
     "outputs": [
      {
       "metadata": {},
       "output_type": "pyout",
       "prompt_number": 10,
       "text": [
        "LassoCV(alphas=None, copy_X=True, cv=None, eps=0.001, fit_intercept=True,\n",
        "    max_iter=1000, n_alphas=100, n_jobs=1, normalize=False, positive=False,\n",
        "    precompute='auto', tol=0.0001, verbose=False)"
       ]
      }
     ],
     "prompt_number": 10
    },
    {
     "cell_type": "code",
     "collapsed": false,
     "input": [
      "# The estimator chose automatically its lambda:\n",
      "lasso.alpha_ "
     ],
     "language": "python",
     "metadata": {},
     "outputs": [
      {
       "metadata": {},
       "output_type": "pyout",
       "prompt_number": 11,
       "text": [
        "0.012291895087486173"
       ]
      }
     ],
     "prompt_number": 11
    },
    {
     "cell_type": "code",
     "collapsed": false,
     "input": [],
     "language": "python",
     "metadata": {},
     "outputs": []
    }
   ],
   "metadata": {}
  }
 ]
}